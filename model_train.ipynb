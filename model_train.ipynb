{
 "cells": [
  {
   "cell_type": "code",
   "execution_count": 1,
   "metadata": {},
   "outputs": [],
   "source": [
    "import pandas as pd\n",
    "import pickle # Object serialization.\n",
    "\n",
    "from sklearn.model_selection import train_test_split\n",
    "from sklearn.pipeline import make_pipeline \n",
    "from sklearn.preprocessing import StandardScaler \n",
    "from sklearn.ensemble import RandomForestClassifier\n",
    "from sklearn.metrics import accuracy_score, classification_report # Accuracy metrics "
   ]
  },
  {
   "cell_type": "code",
   "execution_count": 2,
   "metadata": {},
   "outputs": [],
   "source": [
    "def load_dataset(csv_data):\n",
    "    # Load dataset from CSV file.\n",
    "    df = pd.read_csv(csv_data)\n",
    "\n",
    "    # Separate features and target value.\n",
    "    features = df.drop('class', axis=1) # Features, drop the column 'class'.\n",
    "    target_value = df['class']          # Target value.\n",
    "\n",
    "    # Split dataset into training and testing sets.\n",
    "    x_train, x_test, y_train, y_test = train_test_split(features, target_value, test_size=0.3, random_state=1234)\n",
    "\n",
    "    return x_train, x_test, y_train, y_test"
   ]
  },
  {
   "cell_type": "code",
   "execution_count": 3,
   "metadata": {},
   "outputs": [],
   "source": [
    "def evaluate_model(fit_models, x_test, y_test):\n",
    "    print('\\nEvaluate model accuracy:')\n",
    "    # Evaluate and Serialize Model.\n",
    "    for key_algo, value_pipeline in fit_models.items():\n",
    "        # Predict using the trained model.\n",
    "        yhat = value_pipeline.predict(x_test)\n",
    "        # Calculate accuracy.\n",
    "        accuracy = accuracy_score(y_test, yhat) * 100\n",
    "        print(f'Classify algorithm: {key_algo}, Accuracy: {accuracy:.2f}%')\n",
    "        print('-----------------------------------------------')\n",
    "        # Generate classification report.\n",
    "        report = classification_report(y_test, yhat)\n",
    "        print(f\"Classification Report for {key_algo}:\")\n",
    "        print(report)"
   ]
  },
  {
   "cell_type": "code",
   "execution_count": 4,
   "metadata": {},
   "outputs": [],
   "source": [
    "dataset_csv_file = 'datasets/coords_dataset2.csv'\n",
    "model_weights = 'model/model-1.pkl'"
   ]
  },
  {
   "cell_type": "code",
   "execution_count": 5,
   "metadata": {},
   "outputs": [],
   "source": [
    "    pipelines = {\n",
    "        'rf' : make_pipeline(StandardScaler(), RandomForestClassifier()),\n",
    "    }"
   ]
  },
  {
   "cell_type": "code",
   "execution_count": 7,
   "metadata": {},
   "outputs": [],
   "source": [
    "# Load dataset.\n",
    "x_train, x_test, y_train, y_test = load_dataset(csv_data=dataset_csv_file)"
   ]
  },
  {
   "cell_type": "code",
   "execution_count": 8,
   "metadata": {},
   "outputs": [
    {
     "name": "stdout",
     "output_type": "stream",
     "text": [
      "Model is Training ....\n",
      "Training done.\n"
     ]
    }
   ],
   "source": [
    "fit_models = {}\n",
    "print('Model is Training ....')\n",
    "# Train models and store them in fit_models dictionary.\n",
    "for key_algo, value_pipeline in pipelines.items():\n",
    "    model = value_pipeline.fit(x_train, y_train)\n",
    "    fit_models[key_algo] = model\n",
    "print('Training done.')"
   ]
  },
  {
   "cell_type": "code",
   "execution_count": 9,
   "metadata": {},
   "outputs": [
    {
     "name": "stdout",
     "output_type": "stream",
     "text": [
      "\n",
      "Predict 5 datas: ['Push-Up-to-Down-Dog' 'Cobra-Pose' 'Chest-Opener-Stretch'\n",
      " 'Seated-Wall-Angels' 'Warrior-Pose']\n"
     ]
    }
   ],
   "source": [
    "# Using trained model to predict on test data.\n",
    "rc_predict = fit_models['rf'].predict(x_test)\n",
    "print(f'\\nPredict 5 datas: {rc_predict[0:5]}')"
   ]
  },
  {
   "cell_type": "code",
   "execution_count": 10,
   "metadata": {},
   "outputs": [
    {
     "name": "stdout",
     "output_type": "stream",
     "text": [
      "\n",
      "Save model done.\n"
     ]
    }
   ],
   "source": [
    "# Save model weights.\n",
    "with open(model_weights, 'wb') as f:\n",
    "    pickle.dump(fit_models['rf'], f)\n",
    "print('\\nSave model done.')"
   ]
  },
  {
   "cell_type": "code",
   "execution_count": 11,
   "metadata": {},
   "outputs": [
    {
     "name": "stdout",
     "output_type": "stream",
     "text": [
      "\n",
      "Evaluate model accuracy:\n",
      "Classify algorithm: rf, Accuracy: 100.00%\n",
      "-----------------------------------------------\n",
      "Classification Report for rf:\n",
      "                      precision    recall  f1-score   support\n",
      "\n",
      "         Bridge-Pose       1.00      1.00      1.00       556\n",
      "Chest-Opener-Stretch       1.00      1.00      1.00       538\n",
      "          Cobra-Pose       1.00      1.00      1.00       523\n",
      "       Mountain-Pose       1.00      1.00      1.00       532\n",
      " Push-Up-to-Down-Dog       1.00      1.00      1.00       563\n",
      "  Seated-Wall-Angels       1.00      1.00      1.00       547\n",
      "      Table-Top-Lift       1.00      1.00      1.00       513\n",
      "        Warrior-Pose       1.00      1.00      1.00       547\n",
      "\n",
      "            accuracy                           1.00      4319\n",
      "           macro avg       1.00      1.00      1.00      4319\n",
      "        weighted avg       1.00      1.00      1.00      4319\n",
      "\n"
     ]
    }
   ],
   "source": [
    "# Evaluate model accuracy.\n",
    "evaluate_model(fit_models, x_test, y_test)"
   ]
  }
 ],
 "metadata": {
  "kernelspec": {
   "display_name": ".venv",
   "language": "python",
   "name": "python3"
  },
  "language_info": {
   "codemirror_mode": {
    "name": "ipython",
    "version": 3
   },
   "file_extension": ".py",
   "mimetype": "text/x-python",
   "name": "python",
   "nbconvert_exporter": "python",
   "pygments_lexer": "ipython3",
   "version": "3.11.5"
  }
 },
 "nbformat": 4,
 "nbformat_minor": 2
}
